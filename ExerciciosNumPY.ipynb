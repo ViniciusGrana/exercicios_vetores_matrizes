{
  "nbformat": 4,
  "nbformat_minor": 0,
  "metadata": {
    "colab": {
      "provenance": []
    },
    "kernelspec": {
      "name": "python3",
      "display_name": "Python 3"
    },
    "language_info": {
      "name": "python"
    }
  },
  "cells": [
    {
      "cell_type": "code",
      "execution_count": null,
      "metadata": {
        "id": "0_PC2Jyl4F0S"
      },
      "outputs": [],
      "source": [
        "import numpy as np"
      ]
    },
    {
      "cell_type": "markdown",
      "source": [
        "1. Crie um vetor numpy com os números pares de 1 a 20. Dica: use np.arange()"
      ],
      "metadata": {
        "id": "tkJnM7vgO4pB"
      }
    },
    {
      "cell_type": "code",
      "source": [
        "vetor = np.arange(2,21,2)\n",
        "print(vetor)"
      ],
      "metadata": {
        "colab": {
          "base_uri": "https://localhost:8080/"
        },
        "id": "UxVyw8YO4Npi",
        "outputId": "953bebfc-06b1-4340-ae92-efd979026a4a"
      },
      "execution_count": null,
      "outputs": [
        {
          "output_type": "stream",
          "name": "stdout",
          "text": [
            "[ 2  4  6  8 10 12 14 16 18 20]\n"
          ]
        }
      ]
    },
    {
      "cell_type": "markdown",
      "source": [
        "2. Crie uma matriz numpy 3x3 com valores aleatórios entre 0 e 10. Dica: use\n",
        "np.random.rand()"
      ],
      "metadata": {
        "id": "pEczgIpZSteH"
      }
    },
    {
      "cell_type": "code",
      "source": [
        "mat = np.random.randint(low = 1, high = 10, size = (3,3))\n",
        "print(mat)"
      ],
      "metadata": {
        "colab": {
          "base_uri": "https://localhost:8080/"
        },
        "id": "VDWEcGFe4UKe",
        "outputId": "f45bc30a-87b0-4846-b47d-e6c26aa5bbaa"
      },
      "execution_count": null,
      "outputs": [
        {
          "output_type": "stream",
          "name": "stdout",
          "text": [
            "[[3 1 7]\n",
            " [4 4 3]\n",
            " [9 8 7]]\n"
          ]
        }
      ]
    },
    {
      "cell_type": "markdown",
      "source": [
        "3. Multiplique todos os elementos de um vetor por 2. Use broadcasting para evitar loop.\n",
        "Exemplo: Seja `vetor = np.array([1, 2, 3, 4])`. O resultado esperado: `array([2, 4, 6, 8])`"
      ],
      "metadata": {
        "id": "vnRhD9l6Sr3O"
      }
    },
    {
      "cell_type": "code",
      "source": [
        "vetor = np.array([1, 2, 3, 4])*2\n",
        "print(vetor)"
      ],
      "metadata": {
        "colab": {
          "base_uri": "https://localhost:8080/"
        },
        "id": "rkWoU09D6BLf",
        "outputId": "0252243a-7919-4578-b6d1-bb2f224c4e7d"
      },
      "execution_count": null,
      "outputs": [
        {
          "output_type": "stream",
          "name": "stdout",
          "text": [
            "[2 4 6 8]\n"
          ]
        }
      ]
    },
    {
      "cell_type": "markdown",
      "source": [
        "4. Calcule a soma cumulativa de um vetor. Dica: usar np.cumsum()\n",
        "Exemplo: Seja `vetor = np.array([1, 2, 3, 4])`, o resultado seria `array([ 1, 3, 6, 10])`"
      ],
      "metadata": {
        "id": "GxTFdHqGSn5F"
      }
    },
    {
      "cell_type": "code",
      "source": [
        "vetor = np.array([1, 2, 3, 4])\n",
        "cumsum_vetor = np.cumsum(vetor)\n",
        "print(cumsum_vetor)"
      ],
      "metadata": {
        "colab": {
          "base_uri": "https://localhost:8080/"
        },
        "id": "4UkBqE5K9dZY",
        "outputId": "d7c24e22-7ac4-4394-ba0a-5cfda6e82cb3"
      },
      "execution_count": null,
      "outputs": [
        {
          "output_type": "stream",
          "name": "stdout",
          "text": [
            "[ 1  3  6 10]\n"
          ]
        }
      ]
    },
    {
      "cell_type": "markdown",
      "source": [
        "5. Transponha uma matriz.\n",
        "Exemplo: Seja `matriz = np.array([[1, 2], [3, 4], [5, 6]])`, o resultado seria `array([[1, 3,\n",
        "5], [2, 4, 6]])`"
      ],
      "metadata": {
        "id": "R1Ks30ERSlF_"
      }
    },
    {
      "cell_type": "code",
      "source": [
        "matriz = np.array([[1, 2], [3, 4], [5, 6]])\n",
        "print(matriz)\n",
        "print()\n",
        "transpose = np.transpose(matriz)\n",
        "print(transpose)"
      ],
      "metadata": {
        "colab": {
          "base_uri": "https://localhost:8080/"
        },
        "id": "_SztbXzUKxrs",
        "outputId": "d66117e8-8c8d-4afc-b610-e1bd11550e9d"
      },
      "execution_count": null,
      "outputs": [
        {
          "output_type": "stream",
          "name": "stdout",
          "text": [
            "[[1 2]\n",
            " [3 4]\n",
            " [5 6]]\n",
            "\n",
            "[[1 3 5]\n",
            " [2 4 6]]\n"
          ]
        }
      ]
    },
    {
      "cell_type": "markdown",
      "source": [
        "6. Converta uma matriz em um vetor unidimensional.\n",
        "Exemplo: Seja `matriz = np.array([[1, 2, 3], [4, 5, 6]])`, o resultado seria `array([1, 2, 3,\n",
        "4, 5, 6])`"
      ],
      "metadata": {
        "id": "9oSjfUQ5SZcr"
      }
    },
    {
      "cell_type": "code",
      "source": [
        "matriz = np.array([[1, 2, 3], [4, 5, 6]])\n",
        "matrizuni = np.ravel(matriz)\n",
        "print(np.reshape(matriz, -1))\n",
        "print()\n",
        "print(matrizuni)"
      ],
      "metadata": {
        "colab": {
          "base_uri": "https://localhost:8080/"
        },
        "id": "YoUnur21NOiM",
        "outputId": "d51fd44c-d074-4f8c-cc9e-3967a9383de9"
      },
      "execution_count": null,
      "outputs": [
        {
          "output_type": "stream",
          "name": "stdout",
          "text": [
            "[1 2 3 4 5 6]\n",
            "\n",
            "[1 2 3 4 5 6]\n"
          ]
        }
      ]
    },
    {
      "cell_type": "markdown",
      "source": [
        "7. Multiplicação matricial: multiplique uma matriz (m × n) por um vetor (n × 1).\n",
        "Exemplo: Seja matriz = np.array([[1, 2], [3, 4]]) e vetor = np.array([[5], [6]])`, o\n",
        "resultado seria array([[17], [39]])"
      ],
      "metadata": {
        "id": "SRW_6m3kT0OM"
      }
    },
    {
      "cell_type": "code",
      "source": [
        "matriz = np.array([[1, 2], [3, 4]])\n",
        "vetor = np.array([[5], [6]])\n",
        "\n",
        "result = np.dot(matriz, vetor)\n",
        "print(result)"
      ],
      "metadata": {
        "colab": {
          "base_uri": "https://localhost:8080/"
        },
        "id": "KsjzQqhIQL08",
        "outputId": "da992e4b-6a7e-4ffc-d9e8-f2bb7c916cef"
      },
      "execution_count": null,
      "outputs": [
        {
          "output_type": "stream",
          "name": "stdout",
          "text": [
            "[[17]\n",
            " [39]]\n"
          ]
        }
      ]
    },
    {
      "cell_type": "markdown",
      "source": [
        "8. Encontre os índices dos valores máximos em cada linha de uma matriz. Dica: use\n",
        "np.argmax(). Exemplo: Seja `matriz = np.array([[1, 9, 6], [8, 2, 3], [4, 7, 5]])`, o resultado\n",
        "seria `array([1, 0, 1])`"
      ],
      "metadata": {
        "id": "4XPIKeijVlJL"
      }
    },
    {
      "cell_type": "code",
      "source": [
        "matriz = np.array([[1, 9, 6], [8, 2, 3], [4, 7, 5]])\n",
        "max = np.argmax(matriz, axis = 1)\n",
        "print(max)"
      ],
      "metadata": {
        "colab": {
          "base_uri": "https://localhost:8080/"
        },
        "id": "m0b40sQsU1iZ",
        "outputId": "b7ffb75d-1787-467b-b942-80ed04e8f175"
      },
      "execution_count": null,
      "outputs": [
        {
          "output_type": "stream",
          "name": "stdout",
          "text": [
            "[1 0 1]\n"
          ]
        }
      ]
    },
    {
      "cell_type": "markdown",
      "source": [
        "9. Calcule a raiz quadrada de todos os elementos de um vetor.\n",
        "Exemplo: Seja `vetor = np.array([4, 9, 16, 25])`, o resultado seria `array([2., 3., 4., 5.])`"
      ],
      "metadata": {
        "id": "pJIQqH1tSPqF"
      }
    },
    {
      "cell_type": "code",
      "source": [
        "vetor = np.array([4, 9, 16, 25])\n",
        "vetorRaiz = np.sqrt(vetor) #sqrt square root, raiz quadrada\n",
        "print(vetorRaiz)"
      ],
      "metadata": {
        "id": "mD1pPFZoYwMW",
        "colab": {
          "base_uri": "https://localhost:8080/"
        },
        "outputId": "7394557f-1b51-4245-f7ee-c0bb96b6638f"
      },
      "execution_count": null,
      "outputs": [
        {
          "output_type": "stream",
          "name": "stdout",
          "text": [
            "[2. 3. 4. 5.]\n"
          ]
        }
      ]
    },
    {
      "cell_type": "markdown",
      "source": [
        "10. Substitua todos os valores negativos em um vetor por 0. Exemplo: Seja `vetor =\n",
        "np.array([-1, 2, -3, 4, -5])`, o resultado seria `array([0, 2, 0, 4, 0])`"
      ],
      "metadata": {
        "id": "_Fgd0XMSTGKX"
      }
    },
    {
      "cell_type": "code",
      "source": [
        "vetor = np.array([-1, 2, -3, 4, -5])\n",
        "vetor[vetor < 0] = 0\n",
        "print(vetor)"
      ],
      "metadata": {
        "colab": {
          "base_uri": "https://localhost:8080/"
        },
        "id": "4KwhIVWeSZTA",
        "outputId": "d69dff73-d4fd-4007-d7f4-4b49993407bd"
      },
      "execution_count": null,
      "outputs": [
        {
          "output_type": "stream",
          "name": "stdout",
          "text": [
            "[0 2 0 4 0]\n"
          ]
        }
      ]
    },
    {
      "cell_type": "markdown",
      "source": [
        "11. Reshape um vetor unidimensional em uma matriz 3x3. Exemplo: Seja `vetor =\n",
        "np.array([1, 2, 3, 4, 5, 6, 7, 8, 9])`, o resultado seria `array([[1, 2, 3], [4, 5, 6], [7, 8, 9]])`"
      ],
      "metadata": {
        "id": "sPOzSP_EUr0x"
      }
    },
    {
      "cell_type": "code",
      "source": [
        "vetor = np.array([1, 2, 3, 4, 5, 6, 7, 8, 9])\n",
        "vetor.reshape(3, 3)"
      ],
      "metadata": {
        "colab": {
          "base_uri": "https://localhost:8080/"
        },
        "id": "JqUH42bVTdMB",
        "outputId": "75841286-6a2b-4775-b497-817b2f8e0ffb"
      },
      "execution_count": null,
      "outputs": [
        {
          "output_type": "execute_result",
          "data": {
            "text/plain": [
              "array([[1, 2, 3],\n",
              "       [4, 5, 6],\n",
              "       [7, 8, 9]])"
            ]
          },
          "metadata": {},
          "execution_count": 24
        }
      ]
    },
    {
      "cell_type": "markdown",
      "source": [
        "12. Adicione um valor constante a todos os elementos de um vetor.\n",
        "Exemplo: Seja `vetor = np.array([1, 2, 3, 4])` e `constante = 5`, o resultado seria\n",
        "`array([6, 7, 8, 9])`"
      ],
      "metadata": {
        "id": "pCss60EnekXN"
      }
    },
    {
      "cell_type": "code",
      "source": [
        "vetor = np.array([1, 2, 3, 4])\n",
        "vetor += 5\n",
        "print(vetor)"
      ],
      "metadata": {
        "colab": {
          "base_uri": "https://localhost:8080/"
        },
        "id": "qP6_WMrfcO4t",
        "outputId": "5ea9e4bc-04f7-45bf-ae2c-cff088b24c6d"
      },
      "execution_count": null,
      "outputs": [
        {
          "output_type": "stream",
          "name": "stdout",
          "text": [
            "[6 7 8 9]\n"
          ]
        }
      ]
    },
    {
      "cell_type": "markdown",
      "source": [
        "13. Determine uma constante que ao multiplicar todos os elementos de uma matriz por\n",
        "essa constante, a soma dos elementos da matriz resultante será 1. Não usar loops.\n",
        "Exemplo: Seja `matriz = np.array([[1, 2], [3, 4]])`, o resultado seria `array([[0.1, 0.2], [0.3,0.4]])`, pois 0.1+0.2+0.3+0.4 = 1."
      ],
      "metadata": {
        "id": "GufB3N_Xenkd"
      }
    },
    {
      "cell_type": "code",
      "source": [
        "matriz = np.array([[1, 2], [3, 4]])\n",
        "const = 1/np.sum(matriz)\n",
        "print(const)\n",
        "matriz * const"
      ],
      "metadata": {
        "id": "Ykx0DH4Ueqau",
        "colab": {
          "base_uri": "https://localhost:8080/"
        },
        "outputId": "f168d368-ebc9-4557-f563-95d122e328c2"
      },
      "execution_count": null,
      "outputs": [
        {
          "output_type": "stream",
          "name": "stdout",
          "text": [
            "0.1\n"
          ]
        },
        {
          "output_type": "execute_result",
          "data": {
            "text/plain": [
              "array([[0.1, 0.2],\n",
              "       [0.3, 0.4]])"
            ]
          },
          "metadata": {},
          "execution_count": 26
        }
      ]
    },
    {
      "cell_type": "markdown",
      "source": [
        "14. Gere uma matriz identidade 3x3. Dica: use np.eye()"
      ],
      "metadata": {
        "id": "L4orhl2pe1Qy"
      }
    },
    {
      "cell_type": "code",
      "source": [
        "identidade = np.eye(3)"
      ],
      "metadata": {
        "id": "WO0MB2La0LUu"
      },
      "execution_count": null,
      "outputs": []
    },
    {
      "cell_type": "markdown",
      "source": [
        "15. Concatene duas matrizes horizontalmente. Dica: use np.hstack()\n",
        "Exemplo:\n",
        "\n",
        "![image.png](data:image/png;base64,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)"
      ],
      "metadata": {
        "id": "-xEaRQatyqMg"
      }
    },
    {
      "cell_type": "code",
      "source": [
        "matriz1 = np.array([[1,2,3],[4,5,6]])\n",
        "matriz2 = np.array([[7, 8, 9],[10, 11, 12]])\n",
        "conc = np.hstack((matriz1, matriz2))\n",
        "print(conc)"
      ],
      "metadata": {
        "colab": {
          "base_uri": "https://localhost:8080/"
        },
        "id": "ngA80jyh0Lw2",
        "outputId": "e1e45d92-3b65-4480-d690-b6cb3d092c66"
      },
      "execution_count": null,
      "outputs": [
        {
          "output_type": "stream",
          "name": "stdout",
          "text": [
            "[[ 1  2  3  7  8  9]\n",
            " [ 4  5  6 10 11 12]]\n"
          ]
        }
      ]
    },
    {
      "cell_type": "markdown",
      "source": [
        "16. Encontre o produto escalar entre os vetores [1, 2, 3] e [4, 5, 6]. Dica: use np.dot() e\n",
        "também o operador @ para conferir o outro resultado"
      ],
      "metadata": {
        "id": "SVMiywl8yqZp"
      }
    },
    {
      "cell_type": "code",
      "source": [
        "v1 = np.array([1,2,3])\n",
        "v2 = np.array([4,5,6])\n",
        "print(f'Usando np.dot(): {np.dot(v1, v2)}')\n",
        "print(f'Usando @: {v1@v2}')"
      ],
      "metadata": {
        "colab": {
          "base_uri": "https://localhost:8080/"
        },
        "id": "GJYWgweV0i7Y",
        "outputId": "8959f364-903d-47e2-b6e2-6ad4cea0abff"
      },
      "execution_count": null,
      "outputs": [
        {
          "output_type": "stream",
          "name": "stdout",
          "text": [
            "Usando np.dot(): 32\n",
            "Usando @: 32\n"
          ]
        }
      ]
    },
    {
      "cell_type": "markdown",
      "source": [
        "17. Calcule a média e o desvio padrão de cada linha de uma matriz. Dica: use np.mean() e\n",
        "np.std(). Exemplo: `matriz = np.array([[1, 2, 3], [4, 5, 6], [7, 8, 9]])`. O resultado deve ser:\n",
        "média por linha: [2. 5. 8.], desvio padrão por linha: [0.8165, 0.8165, 0.8165]"
      ],
      "metadata": {
        "id": "L8WPbck4yqmY"
      }
    },
    {
      "cell_type": "code",
      "source": [
        "matriz = np.array([[1, 2, 3], [4, 5, 6], [7, 8, 9]])\n",
        "media = np.mean(matriz, axis=1) #axis 0 = coluna (y); axis 1 = linha (x)\n",
        "desvio = np.std(matriz, axis=1)\n",
        "print(f'Media: {media}\\nDesvio: {desvio}')"
      ],
      "metadata": {
        "colab": {
          "base_uri": "https://localhost:8080/"
        },
        "id": "C0obAcHV32OK",
        "outputId": "02361eab-58e0-462e-e1b5-b06d149f2711"
      },
      "execution_count": null,
      "outputs": [
        {
          "output_type": "stream",
          "name": "stdout",
          "text": [
            "Media: [2. 5. 8.]\n",
            "Desvio: [0.81649658 0.81649658 0.81649658]\n"
          ]
        }
      ]
    },
    {
      "cell_type": "markdown",
      "source": [
        "18. Calcule a média e o desvio padrão de cada coluna de uma matriz. Dica: use np.mean()\n",
        "e np.std(). Exemplo: matriz = np.array([[1, 2, 3], [4, 5, 6], [7, 8, 9]]). O resultado deve ser:\n",
        "média por coluna: [4. 5. 6.], desvio padrão por coluna: [2.4495, 2.4495, 2.4495]"
      ],
      "metadata": {
        "id": "5WqRzNb_yq33"
      }
    },
    {
      "cell_type": "code",
      "source": [
        "matriz = np.array([[1, 2, 3], [4, 5, 6], [7, 8, 9]])\n",
        "media = np.mean(matriz, axis=0) #axis 0 = coluna (y); axis 1 = linha (x)\n",
        "desvio = np.std(matriz, axis=0)\n",
        "print(f'Media: {media}\\nDesvio: {desvio}')"
      ],
      "metadata": {
        "colab": {
          "base_uri": "https://localhost:8080/"
        },
        "id": "anuCSdiE0cVe",
        "outputId": "307eadb8-8938-4c66-a502-42bab212acb6"
      },
      "execution_count": null,
      "outputs": [
        {
          "output_type": "stream",
          "name": "stdout",
          "text": [
            "Media: [4. 5. 6.]\n",
            "Desvio: [2.44948974 2.44948974 2.44948974]\n"
          ]
        }
      ]
    },
    {
      "cell_type": "markdown",
      "source": [
        "19. Calcule a média de cada coluna de uma matriz e a subtraia da respectiva coluna.\n",
        "Exemplo: Seja `matriz = np.array([[1, 2, 3], [4, 5, 6], [7, 8, 9]])`, o resultado seria\n",
        "`array([[-3., -3., -3.], [ 0., 0., 0.], [ 3., 3., 3.]])`. Use broadcasting para evitar loops"
      ],
      "metadata": {
        "id": "52I1S_10yrGA"
      }
    },
    {
      "cell_type": "code",
      "source": [
        "matriz = np.array([[1, 2, 3], [4, 5, 6], [7, 8, 9]])\n",
        "media = np.mean(matriz, axis=0)\n",
        "np.subtract(matriz, media)"
      ],
      "metadata": {
        "colab": {
          "base_uri": "https://localhost:8080/"
        },
        "id": "OfV79Yw85hzY",
        "outputId": "f5347c87-6c51-4408-d9f0-30c53d1b5263"
      },
      "execution_count": null,
      "outputs": [
        {
          "output_type": "execute_result",
          "data": {
            "text/plain": [
              "array([[-3., -3., -3.],\n",
              "       [ 0.,  0.,  0.],\n",
              "       [ 3.,  3.,  3.]])"
            ]
          },
          "metadata": {},
          "execution_count": 32
        }
      ]
    },
    {
      "cell_type": "markdown",
      "source": [
        "20. Calcule a média de cada linha de uma matriz e a subtraia da respectiva linha. Exemplo:\n",
        "Seja `matriz = np.array([[1, 2, 3], [4, 5, 6], [7, 8, 9]])`, o resultado seria `array([[-1., 0., 1.],\n",
        "[-1., 0., 1.], [-1., 0., 1.]])`. Use broadcasting para evitar loops"
      ],
      "metadata": {
        "id": "xWBLmDP1yrax"
      }
    },
    {
      "cell_type": "code",
      "source": [
        "matriz = np.array([[1, 2, 3], [4, 5, 6], [7, 8, 9]])\n",
        "media = np.mean(matriz, axis=1).reshape(3,1)\n",
        "np.subtract(matriz, media)"
      ],
      "metadata": {
        "colab": {
          "base_uri": "https://localhost:8080/"
        },
        "id": "ZSQGqqTM5jo4",
        "outputId": "52e95d7d-fe21-4346-fd65-83acade67854"
      },
      "execution_count": null,
      "outputs": [
        {
          "output_type": "execute_result",
          "data": {
            "text/plain": [
              "array([[-1.,  0.,  1.],\n",
              "       [-1.,  0.,  1.],\n",
              "       [-1.,  0.,  1.]])"
            ]
          },
          "metadata": {},
          "execution_count": 33
        }
      ]
    },
    {
      "cell_type": "markdown",
      "source": [
        "21. Uma operação comum em ciência de dados ou aprendizado de máquina é a normalização dos dados. Os\n",
        "dados estão dispostos em uma matriz e cada característica de interesse ao longo das colunas. Por exemplo,\n",
        "uma matriz em que cada linha corresponde a uma pessoa, teremos a coluna das idades, a coluna das\n",
        "alturas, a coluna da renda mensal, etc. A normalização consiste em, para cada ponto na matriz, subtrair a\n",
        "média da coluna e dividir pelo desvio padrão da respectiva coluna.\n",
        "Normalize os dados da seguinte matriz X, onde cada linha corresponde a uma amostra (e.g. pessoa) e cada\n",
        "coluna corresponde a uma característica dela. Para normalizar os dados, você pode usar broadcasting para\n",
        "subtrair a média de cada coluna e dividir pelo desvio padrão, evitando a necessidade de loops explícitos.\n",
        "Dica: use os métodos mean(), std() para os cálculos da média e desvio padrão, respectivamente.\n",
        "\n",
        "X = [[ 55 1.72 603 ]\n",
        "[ 54 1.42 646 ]\n",
        "[ 44 1.89 964 ]\n",
        "[ 38 1.79 529 ]]\n",
        "\n",
        "Normalização =>\n",
        "\n",
        "[[ 1.023 0.086 -0.497]\n",
        "[ 0.882 -1.626 -0.238]\n",
        "[-0.529 1.055 1.676]\n",
        "[-1.376 0.485 -0.942]]"
      ],
      "metadata": {
        "id": "hG5SWQWz81Jk"
      }
    },
    {
      "cell_type": "code",
      "source": [
        "X = np.array([[ 55, 1.72, 603 ], [ 54, 1.42, 646 ], [ 44, 1.89, 964 ], [ 38, 1.79, 529 ]])\n",
        "media = np.mean(X, axis=0)\n",
        "normal = np.subtract(X, media)/np.std(X, axis=0)\n",
        "print(normal)"
      ],
      "metadata": {
        "colab": {
          "base_uri": "https://localhost:8080/"
        },
        "id": "75E9X0eE80hj",
        "outputId": "98208ea8-1b33-465a-d4d6-6ba581eda42c"
      },
      "execution_count": null,
      "outputs": [
        {
          "output_type": "stream",
          "name": "stdout",
          "text": [
            "[[ 1.02338778  0.08557469 -0.49654442]\n",
            " [ 0.88223084 -1.62591903 -0.23773945]\n",
            " [-0.5293385   1.05542112  1.67621359]\n",
            " [-1.37628011  0.48492322 -0.94192972]]\n"
          ]
        }
      ]
    },
    {
      "cell_type": "markdown",
      "source": [
        "22. Encontre a solução para o seguinte problema. Arredondar todos os valores em uma\n",
        "matriz para o inteiro mais próximo. Dica: analise np.floor(), np.ceil(), np.fix() e np.round()\n",
        "Exemplo:"
      ],
      "metadata": {
        "id": "x3o-Oxubyrnw"
      }
    },
    {
      "cell_type": "code",
      "source": [
        "v = np.array([[1.2, 2.8, 3.5], [4.9, 5.1, 6.7], [7.3, 8.6, 9.2]])\n",
        "np.floor(v) #arredonda para o menor inteiro mais próximo\n",
        "np.ceil(v) #arredonda para cima\n",
        "np.fix(v) #semelhante ao floor quando usado para números negativos. Arredondará para zero os decimais.\n",
        "np.round(v) #É realmente o inteiro mais próximo. >= 0.5 arrendonda pra cima."
      ],
      "metadata": {
        "colab": {
          "base_uri": "https://localhost:8080/"
        },
        "id": "JAB2TyyO_kba",
        "outputId": "dc3bda40-8e89-4e72-998d-ebb51682a98f"
      },
      "execution_count": null,
      "outputs": [
        {
          "output_type": "execute_result",
          "data": {
            "text/plain": [
              "array([[1., 3., 4.],\n",
              "       [5., 5., 7.],\n",
              "       [7., 9., 9.]])"
            ]
          },
          "metadata": {},
          "execution_count": 35
        }
      ]
    },
    {
      "cell_type": "markdown",
      "source": [
        "23. Dada a matriz A, encontre sua inversa A-¹. Então, conprove que AA−¹ = I, onde I é a matriz identidade, com elementos da diagonal unitários e o restante zero."
      ],
      "metadata": {
        "id": "67dNB5D9yr4f"
      }
    },
    {
      "cell_type": "code",
      "source": [
        "A = np.array([[1, 3, 2],\n",
        "              [5, 4, 6],\n",
        "              [7, 8, 9]])\n",
        "Ainv = np.linalg.inv(A)\n",
        "identidade = np.dot(A, Ainv)\n",
        "np.round(identidade) #usando o fix estava dando alguns erros, é melhor ir no round\n"
      ],
      "metadata": {
        "colab": {
          "base_uri": "https://localhost:8080/"
        },
        "id": "DkrSkICJ_J8e",
        "outputId": "aa3ce992-8a81-4b37-8268-f9e1a0cdb680"
      },
      "execution_count": null,
      "outputs": [
        {
          "output_type": "execute_result",
          "data": {
            "text/plain": [
              "array([[ 1.,  0.,  0.],\n",
              "       [-0.,  1., -0.],\n",
              "       [ 0.,  0.,  1.]])"
            ]
          },
          "metadata": {},
          "execution_count": 36
        }
      ]
    },
    {
      "cell_type": "markdown",
      "source": [
        "24. Suponha que você seja um corretor imobiliário e deseja prever o preço de uma casa com base em diferentes\n",
        "características, como área construída, número de quartos, número de banheiros e idade da casa. Você coletou\n",
        "dados de venda de casas nos últimos seis meses e registrou essas características para cada venda.\n",
        "Os dados coletados estão disponíveis na forma de uma matriz, onde cada linha representa uma casa vendida e\n",
        "cada coluna representa uma característica. Além disso, você tem um vetor com os preços de venda\n",
        "correspondentes das casas.\n",
        "Tarefa:\n",
        "Encontrar os coeficientes ideais que relacionam as características das casas com\n",
        "os preços de venda. Em seguida, preveja o preço de uma nova casa com as\n",
        "seguintes características:\n",
        "• Área construída: 180 metros quadrados\n",
        "• Número de quartos: 3\n",
        "• Número de banheiros: 2\n",
        "• Idade da casa: 5 anos"
      ],
      "metadata": {
        "id": "_Bl843l3ysbA"
      }
    },
    {
      "cell_type": "code",
      "source": [
        "dados = np.array([[150, 200, 180, 170, 220, 190],\n",
        "                  [3, 4, 3, 2, 4, 3],\n",
        "                  [2, 3, 2, 1, 3, 2],\n",
        "                  [5, 7, 10, 3, 8, 6]]).T\n",
        "vendas = np.array([190000, 255000, 170000, 195000, 265000, 220000])\n",
        "X, residuals, _, _ = np.linalg.lstsq(dados, vendas, rcond=None)\n",
        "novaCasa = np.array([[180, 3, 1, 5]])\n",
        "preco = novaCasa@X\n",
        "print(f'Preço da nova casa = R${preco[0]:.0f}')"
      ],
      "metadata": {
        "id": "DahgR0X8YHng",
        "colab": {
          "base_uri": "https://localhost:8080/"
        },
        "outputId": "14241b54-b407-440c-adcb-efc8f8b76c09"
      },
      "execution_count": null,
      "outputs": [
        {
          "output_type": "stream",
          "name": "stdout",
          "text": [
            "Preço da nova casa = R$205000\n"
          ]
        }
      ]
    }
  ]
}